{
 "cells": [
  {
   "cell_type": "code",
   "execution_count": null,
   "id": "6e8d831c",
   "metadata": {},
   "outputs": [],
   "source": [
    "import ipywidgets as widgets\n",
    "from IPython.display import display\n",
    "\n",
    "a = widgets.IntText(value=0, description='A:')\n",
    "b = widgets.IntText(value=0, description='B:')\n",
    "out = widgets.Output()\n",
    "\n",
    "def compute(change):\n",
    "    with out:\n",
    "        out.clear_output()\n",
    "        print(f\"Sum: {a.value + b.value}\")\n",
    "\n",
    "a.observe(compute, names='value')\n",
    "b.observe(compute, names='value')\n",
    "\n",
    "display(a, b, out)\n"
   ]
  }
 ],
 "metadata": {
  "language_info": {
   "name": "python"
  }
 },
 "nbformat": 4,
 "nbformat_minor": 5
}
