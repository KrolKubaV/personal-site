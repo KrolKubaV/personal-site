{
 "cells": [
  {
   "cell_type": "code",
   "execution_count": 1,
   "id": "8b468db3",
   "metadata": {},
   "outputs": [],
   "source": [
    "def f(n):\n",
    "    return f(n-1) + 1 if n > 0 else 0\n",
    "    \n"
   ]
  },
  {
   "cell_type": "markdown",
   "id": "fb383e51",
   "metadata": {},
   "source": [
    "HEY!"
   ]
  },
  {
   "cell_type": "markdown",
   "id": "e0104340",
   "metadata": {},
   "source": []
  },
  {
   "cell_type": "code",
   "execution_count": null,
   "id": "e9080abe",
   "metadata": {},
   "outputs": [],
   "source": []
  },
  {
   "cell_type": "code",
   "execution_count": 2,
   "id": "d9af2046",
   "metadata": {},
   "outputs": [
    {
     "data": {
      "text/plain": [
       "10"
      ]
     },
     "execution_count": 2,
     "metadata": {},
     "output_type": "execute_result"
    }
   ],
   "source": [
    "f(10)"
   ]
  },
  {
   "cell_type": "code",
   "execution_count": null,
   "id": "96618ec6",
   "metadata": {},
   "outputs": [],
   "source": []
  }
 ],
 "metadata": {
  "kernelspec": {
   "display_name": "base",
   "language": "python",
   "name": "python3"
  },
  "language_info": {
   "codemirror_mode": {
    "name": "ipython",
    "version": 3
   },
   "file_extension": ".py",
   "mimetype": "text/x-python",
   "name": "python",
   "nbconvert_exporter": "python",
   "pygments_lexer": "ipython3",
   "version": "3.12.7"
  }
 },
 "nbformat": 4,
 "nbformat_minor": 5
}
